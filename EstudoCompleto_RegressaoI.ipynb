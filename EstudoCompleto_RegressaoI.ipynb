{
  "nbformat": 4,
  "nbformat_minor": 0,
  "metadata": {
    "colab": {
      "provenance": [],
      "authorship_tag": "ABX9TyPlGAcCmeKvSORP00i7ZIK9",
      "include_colab_link": true
    },
    "kernelspec": {
      "name": "python3",
      "display_name": "Python 3"
    },
    "language_info": {
      "name": "python"
    }
  },
  "cells": [
    {
      "cell_type": "markdown",
      "metadata": {
        "id": "view-in-github",
        "colab_type": "text"
      },
      "source": [
        "<a href=\"https://colab.research.google.com/github/gabriellfelipe7/EstudoCompleto_Regressao1/blob/main/EstudoCompleto_RegressaoI.ipynb\" target=\"_parent\"><img src=\"https://colab.research.google.com/assets/colab-badge.svg\" alt=\"Open In Colab\"/></a>"
      ]
    },
    {
      "cell_type": "markdown",
      "source": [
        "$$\n",
        "\\text{Estudo Completo - Regressao Linear e Aprendizado Supervisionado I}\n",
        "$$\n",
        "$$\n",
        "\\text{Notas de Aula: ICMC - USP}\n",
        "$$"
      ],
      "metadata": {
        "id": "KRa94vWBtH9H"
      }
    },
    {
      "cell_type": "markdown",
      "source": [
        "$$ \\text{1. Introdução - Análise de Regressão} $$"
      ],
      "metadata": {
        "id": "5ekxzVaLtrzf"
      }
    },
    {
      "cell_type": "markdown",
      "source": [
        "A análise de regressão é uma metodologia estatística que utiliza a relação entre duas ou mais variaveis para que uma variável resposta possa ser predita. \n",
        "- Objetivo: Estimar a resposta a partir de covariáveis."
      ],
      "metadata": {
        "id": "EA-Dyiiet9NO"
      }
    },
    {
      "cell_type": "markdown",
      "source": [
        "Exemplos:"
      ],
      "metadata": {
        "id": "3XG8cEJjuePH"
      }
    },
    {
      "cell_type": "markdown",
      "source": [
        "$1.$\n",
        "$$ X: \\text{Valor gasto com propaganda}$$\n",
        "$$ Y: \\text{Vendas}$$"
      ],
      "metadata": {
        "id": "ItMHGDIEuflO"
      }
    },
    {
      "cell_type": "markdown",
      "source": [
        "$2.$\n",
        "$$ X: \\text{Tamanho de um imóvel}$$\n",
        "$$ Y: \\text{Aluguel/Valor} $$"
      ],
      "metadata": {
        "id": "RBLC3S5Tu5C3"
      }
    },
    {
      "cell_type": "markdown",
      "source": [
        "Note que seguiremos uma notação definida:"
      ],
      "metadata": {
        "id": "oIJex8SdvFxf"
      }
    },
    {
      "cell_type": "markdown",
      "source": [
        "$Y: \\text{Variável resposta}$ \n",
        "\n",
        "$X_1,X_2,...,X_n:  \\text{Várivais preditoras; covariáveis; ou variáveis independentes}$"
      ],
      "metadata": {
        "id": "XZ8daWrwvJ2I"
      }
    },
    {
      "cell_type": "markdown",
      "source": [
        "Seguiremos tambpem um modelo matemático:"
      ],
      "metadata": {
        "id": "8rxCxwBkvJsf"
      }
    },
    {
      "cell_type": "markdown",
      "source": [
        "$$ \\text{Var. resposta = função do modelo + Erro aleatório} $$\n",
        "$$ {Y = 𝒇(X_1,X_2,...,X_p) + ϵ} $$ "
      ],
      "metadata": {
        "id": "1V3_HWqkv17A"
      }
    },
    {
      "cell_type": "code",
      "execution_count": null,
      "metadata": {
        "id": "yL8Mx3ZWqJqu"
      },
      "outputs": [],
      "source": []
    }
  ]
}